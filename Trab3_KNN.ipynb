{
  "nbformat": 4,
  "nbformat_minor": 0,
  "metadata": {
    "colab": {
      "provenance": [],
      "authorship_tag": "ABX9TyNz9Xh9Mgp4kw/WFink4B6q",
      "include_colab_link": true
    },
    "kernelspec": {
      "name": "python3",
      "display_name": "Python 3"
    },
    "language_info": {
      "name": "python"
    }
  },
  "cells": [
    {
      "cell_type": "markdown",
      "metadata": {
        "id": "view-in-github",
        "colab_type": "text"
      },
      "source": [
        "<a href=\"https://colab.research.google.com/github/orlanddoneto/AlgoritmoKNN_futebol/blob/main/Trab3_KNN.ipynb\" target=\"_parent\"><img src=\"https://colab.research.google.com/assets/colab-badge.svg\" alt=\"Open In Colab\"/></a>"
      ]
    },
    {
      "cell_type": "markdown",
      "source": [
        "Importações"
      ],
      "metadata": {
        "id": "Od4DtWgLTklP"
      }
    },
    {
      "cell_type": "code",
      "execution_count": null,
      "metadata": {
        "id": "T8drQKZITITG"
      },
      "outputs": [],
      "source": [
        "import pandas as pd\n",
        "from sklearn.neighbors import KNeighborsClassifier\n",
        "from sklearn.preprocessing import LabelEncoder\n",
        "import matplotlib.pyplot as plt\n",
        "import seaborn as sns"
      ]
    },
    {
      "cell_type": "markdown",
      "source": [
        "# Carregar os dados de treino"
      ],
      "metadata": {
        "id": "OUAnVvsATf7f"
      }
    },
    {
      "cell_type": "code",
      "source": [
        "jogadores_data = pd.read_csv('jogadores.csv', delimiter=';')\n",
        "le = LabelEncoder()\n",
        "#Atacante 0 || Defensor 1\n",
        "jogadores_data['Classe'] = le.fit_transform(jogadores_data['Classe'])"
      ],
      "metadata": {
        "id": "YsueWOe1Tad2"
      },
      "execution_count": null,
      "outputs": []
    },
    {
      "cell_type": "markdown",
      "source": [
        "# Separando os dados gerais (X_train) e o rótulo da classificação (y_train)"
      ],
      "metadata": {
        "id": "GjKICpsjTwgX"
      }
    },
    {
      "cell_type": "code",
      "source": [
        "X_train = jogadores_data.drop('Classe', axis=1)\n",
        "y_train = jogadores_data['Classe']"
      ],
      "metadata": {
        "id": "1_FwQj8bTvov"
      },
      "execution_count": null,
      "outputs": []
    },
    {
      "cell_type": "markdown",
      "source": [
        "# Treinando o knn com os dados de treino"
      ],
      "metadata": {
        "id": "8Q7esIG8T1MW"
      }
    },
    {
      "cell_type": "code",
      "source": [
        "knn = KNeighborsClassifier(n_neighbors=5, p = 1)\n",
        "knn.fit(X_train, y_train)\n"
      ],
      "metadata": {
        "colab": {
          "base_uri": "https://localhost:8080/",
          "height": 75
        },
        "id": "vC8vCf_YT0I3",
        "outputId": "530e184d-3df0-4a15-e405-6db7d1b09a1a"
      },
      "execution_count": null,
      "outputs": [
        {
          "output_type": "execute_result",
          "data": {
            "text/plain": [
              "KNeighborsClassifier(p=1)"
            ],
            "text/html": [
              "<style>#sk-container-id-4 {color: black;background-color: white;}#sk-container-id-4 pre{padding: 0;}#sk-container-id-4 div.sk-toggleable {background-color: white;}#sk-container-id-4 label.sk-toggleable__label {cursor: pointer;display: block;width: 100%;margin-bottom: 0;padding: 0.3em;box-sizing: border-box;text-align: center;}#sk-container-id-4 label.sk-toggleable__label-arrow:before {content: \"▸\";float: left;margin-right: 0.25em;color: #696969;}#sk-container-id-4 label.sk-toggleable__label-arrow:hover:before {color: black;}#sk-container-id-4 div.sk-estimator:hover label.sk-toggleable__label-arrow:before {color: black;}#sk-container-id-4 div.sk-toggleable__content {max-height: 0;max-width: 0;overflow: hidden;text-align: left;background-color: #f0f8ff;}#sk-container-id-4 div.sk-toggleable__content pre {margin: 0.2em;color: black;border-radius: 0.25em;background-color: #f0f8ff;}#sk-container-id-4 input.sk-toggleable__control:checked~div.sk-toggleable__content {max-height: 200px;max-width: 100%;overflow: auto;}#sk-container-id-4 input.sk-toggleable__control:checked~label.sk-toggleable__label-arrow:before {content: \"▾\";}#sk-container-id-4 div.sk-estimator input.sk-toggleable__control:checked~label.sk-toggleable__label {background-color: #d4ebff;}#sk-container-id-4 div.sk-label input.sk-toggleable__control:checked~label.sk-toggleable__label {background-color: #d4ebff;}#sk-container-id-4 input.sk-hidden--visually {border: 0;clip: rect(1px 1px 1px 1px);clip: rect(1px, 1px, 1px, 1px);height: 1px;margin: -1px;overflow: hidden;padding: 0;position: absolute;width: 1px;}#sk-container-id-4 div.sk-estimator {font-family: monospace;background-color: #f0f8ff;border: 1px dotted black;border-radius: 0.25em;box-sizing: border-box;margin-bottom: 0.5em;}#sk-container-id-4 div.sk-estimator:hover {background-color: #d4ebff;}#sk-container-id-4 div.sk-parallel-item::after {content: \"\";width: 100%;border-bottom: 1px solid gray;flex-grow: 1;}#sk-container-id-4 div.sk-label:hover label.sk-toggleable__label {background-color: #d4ebff;}#sk-container-id-4 div.sk-serial::before {content: \"\";position: absolute;border-left: 1px solid gray;box-sizing: border-box;top: 0;bottom: 0;left: 50%;z-index: 0;}#sk-container-id-4 div.sk-serial {display: flex;flex-direction: column;align-items: center;background-color: white;padding-right: 0.2em;padding-left: 0.2em;position: relative;}#sk-container-id-4 div.sk-item {position: relative;z-index: 1;}#sk-container-id-4 div.sk-parallel {display: flex;align-items: stretch;justify-content: center;background-color: white;position: relative;}#sk-container-id-4 div.sk-item::before, #sk-container-id-4 div.sk-parallel-item::before {content: \"\";position: absolute;border-left: 1px solid gray;box-sizing: border-box;top: 0;bottom: 0;left: 50%;z-index: -1;}#sk-container-id-4 div.sk-parallel-item {display: flex;flex-direction: column;z-index: 1;position: relative;background-color: white;}#sk-container-id-4 div.sk-parallel-item:first-child::after {align-self: flex-end;width: 50%;}#sk-container-id-4 div.sk-parallel-item:last-child::after {align-self: flex-start;width: 50%;}#sk-container-id-4 div.sk-parallel-item:only-child::after {width: 0;}#sk-container-id-4 div.sk-dashed-wrapped {border: 1px dashed gray;margin: 0 0.4em 0.5em 0.4em;box-sizing: border-box;padding-bottom: 0.4em;background-color: white;}#sk-container-id-4 div.sk-label label {font-family: monospace;font-weight: bold;display: inline-block;line-height: 1.2em;}#sk-container-id-4 div.sk-label-container {text-align: center;}#sk-container-id-4 div.sk-container {/* jupyter's `normalize.less` sets `[hidden] { display: none; }` but bootstrap.min.css set `[hidden] { display: none !important; }` so we also need the `!important` here to be able to override the default hidden behavior on the sphinx rendered scikit-learn.org. See: https://github.com/scikit-learn/scikit-learn/issues/21755 */display: inline-block !important;position: relative;}#sk-container-id-4 div.sk-text-repr-fallback {display: none;}</style><div id=\"sk-container-id-4\" class=\"sk-top-container\"><div class=\"sk-text-repr-fallback\"><pre>KNeighborsClassifier(p=1)</pre><b>In a Jupyter environment, please rerun this cell to show the HTML representation or trust the notebook. <br />On GitHub, the HTML representation is unable to render, please try loading this page with nbviewer.org.</b></div><div class=\"sk-container\" hidden><div class=\"sk-item\"><div class=\"sk-estimator sk-toggleable\"><input class=\"sk-toggleable__control sk-hidden--visually\" id=\"sk-estimator-id-4\" type=\"checkbox\" checked><label for=\"sk-estimator-id-4\" class=\"sk-toggleable__label sk-toggleable__label-arrow\">KNeighborsClassifier</label><div class=\"sk-toggleable__content\"><pre>KNeighborsClassifier(p=1)</pre></div></div></div></div></div>"
            ]
          },
          "metadata": {},
          "execution_count": 31
        }
      ]
    },
    {
      "cell_type": "markdown",
      "source": [
        "# Carregar os dados para validação"
      ],
      "metadata": {
        "id": "SURUvkQkT8Bu"
      }
    },
    {
      "cell_type": "code",
      "source": [
        "validation_data = pd.read_csv('validacao.csv', delimiter=';')"
      ],
      "metadata": {
        "id": "U7gYQ5GpT7h_"
      },
      "execution_count": null,
      "outputs": []
    },
    {
      "cell_type": "markdown",
      "source": [
        "# Prevendo classes dos dados de validação"
      ],
      "metadata": {
        "id": "vWw4dwPGT_R3"
      }
    },
    {
      "cell_type": "code",
      "source": [
        "predicted_classes = knn.predict(validation_data)\n",
        "predicted_classes = le.inverse_transform(predicted_classes)\n"
      ],
      "metadata": {
        "id": "6Lob0qRJT_8O"
      },
      "execution_count": null,
      "outputs": []
    },
    {
      "cell_type": "markdown",
      "source": [
        "# Adicionar as classes previstas ao DataFrame original"
      ],
      "metadata": {
        "id": "IHvPlTRIUFCO"
      }
    },
    {
      "cell_type": "code",
      "source": [
        "validation_data['Classe'] = predicted_classes"
      ],
      "metadata": {
        "id": "XQIYste2UFfo"
      },
      "execution_count": null,
      "outputs": []
    },
    {
      "cell_type": "markdown",
      "source": [
        "Mostra os resultados"
      ],
      "metadata": {
        "id": "BqTtQQ8wUL7f"
      }
    },
    {
      "cell_type": "code",
      "source": [
        "print(validation_data)"
      ],
      "metadata": {
        "colab": {
          "base_uri": "https://localhost:8080/"
        },
        "id": "yhRhhvG2UMRH",
        "outputId": "0cc8b9b2-49bc-4366-d41e-8a4e800f8f93"
      },
      "execution_count": null,
      "outputs": [
        {
          "output_type": "stream",
          "name": "stdout",
          "text": [
            "     Id  Idade  Altura  Tecnica  Passe  Chute  Forca  Velocidade  Drible  \\\n",
            "0   201     19     186       71     67     52     77          75      65   \n",
            "1   202     19     175       65     63     66     60          82      70   \n",
            "2   203     20     181       64     64     67     70          67      68   \n",
            "3   204     20     170       69     66     70     62          76      75   \n",
            "4   205     21     176       66     61     68     65          75      72   \n",
            "5   206     22     171       64     65     66     60          78      71   \n",
            "6   207     22     176       70     72     70     64          77      77   \n",
            "7   208     22     188       72     69     50     76          75      65   \n",
            "8   209     22     180       68     74     67     71          72      71   \n",
            "9   210     22     177       67     68     69     65          77      73   \n",
            "10  211     23     185       77     79     65     79          75      79   \n",
            "11  212     23     178       66     68     65     65          80      76   \n",
            "12  213     23     180       68     65     51     77          71      61   \n",
            "13  214     23     170       68     66     68     62          75      74   \n",
            "14  215     24     182       79     73     58     77          77      65   \n",
            "15  216     24     178       62     68     46     70          65      63   \n",
            "16  217     24     189       65     65     55     70          69      58   \n",
            "17  218     25     181       72     67     58     77          81      73   \n",
            "18  219     25     185       69     65     58     75          72      68   \n",
            "19  220     25     178       70     67     63     66          83      77   \n",
            "20  221     26     174       67     64     65     66          82      70   \n",
            "21  222     26     169       78     78     73     67          83      80   \n",
            "22  223     27     190       70     64     58     81          74      60   \n",
            "23  224     27     183       70     66     55     81          67      65   \n",
            "24  225     27     184       78     68     76     68          92      83   \n",
            "25  226     28     178       72     64     79     74          73      69   \n",
            "26  227     31     189       70     66     59     84          71      63   \n",
            "27  228     33     187       71     63     55     82          73      64   \n",
            "28  229     37     188       72     63     54     84          70      60   \n",
            "29  230     37     182       72     65     59     84          67      63   \n",
            "\n",
            "      Classe  \n",
            "0   Defensor  \n",
            "1   Atacante  \n",
            "2   Defensor  \n",
            "3   Atacante  \n",
            "4   Atacante  \n",
            "5   Atacante  \n",
            "6   Atacante  \n",
            "7   Defensor  \n",
            "8   Atacante  \n",
            "9   Atacante  \n",
            "10  Atacante  \n",
            "11  Atacante  \n",
            "12  Defensor  \n",
            "13  Atacante  \n",
            "14  Defensor  \n",
            "15  Defensor  \n",
            "16  Defensor  \n",
            "17  Defensor  \n",
            "18  Defensor  \n",
            "19  Atacante  \n",
            "20  Atacante  \n",
            "21  Atacante  \n",
            "22  Defensor  \n",
            "23  Defensor  \n",
            "24  Atacante  \n",
            "25  Atacante  \n",
            "26  Defensor  \n",
            "27  Defensor  \n",
            "28  Defensor  \n",
            "29  Defensor  \n"
          ]
        }
      ]
    },
    {
      "cell_type": "markdown",
      "source": [
        "# Plotar um gráfico de dispersão"
      ],
      "metadata": {
        "id": "7H7YjsbkUUku"
      }
    },
    {
      "cell_type": "code",
      "source": [
        "#sns.scatterplot(data=jogadores_data, x='Forca', y='Chute', hue='Classe', marker='o')\n",
        "sns.scatterplot(data=validation_data, x='Forca', y='Chute', hue='Classe', marker='X')\n",
        "plt.title('Gráfico de Dispersão - Força vs Chute')\n",
        "plt.legend()\n",
        "plt.show()"
      ],
      "metadata": {
        "colab": {
          "base_uri": "https://localhost:8080/",
          "height": 472
        },
        "id": "SM-6Ih7kUVlm",
        "outputId": "6871c865-3827-41f2-bb08-552eba17f0ae"
      },
      "execution_count": null,
      "outputs": [
        {
          "output_type": "display_data",
          "data": {
            "text/plain": [
              "<Figure size 640x480 with 1 Axes>"
            ],
            "image/png": "[encoded data removed]"
          },
          "metadata": {}
        }
      ]
    }
  ]
}